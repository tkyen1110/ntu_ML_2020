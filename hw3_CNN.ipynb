{
  "nbformat": 4,
  "nbformat_minor": 0,
  "metadata": {
    "accelerator": "GPU",
    "colab": {
      "name": "hw3_CNN.ipynb",
      "provenance": [],
      "collapsed_sections": [],
      "include_colab_link": true
    },
    "kernelspec": {
      "display_name": "Python 3",
      "name": "python3"
    }
  },
  "cells": [
    {
      "cell_type": "markdown",
      "metadata": {
        "id": "view-in-github",
        "colab_type": "text"
      },
      "source": [
        "<a href=\"https://colab.research.google.com/github/tkyen1110/ntu_ML_2020/blob/master/hw3_CNN.ipynb\" target=\"_parent\"><img src=\"https://colab.research.google.com/assets/colab-badge.svg\" alt=\"Open In Colab\"/></a>"
      ]
    },
    {
      "cell_type": "markdown",
      "metadata": {
        "id": "D_a2USyd4giE"
      },
      "source": [
        "# **Homework 3 - Convolutional Neural Network**\n",
        "\n",
        "若有任何問題，歡迎來信至助教信箱 ntu-ml-2020spring-ta@googlegroups.com"
      ]
    },
    {
      "cell_type": "code",
      "metadata": {
        "colab": {
          "base_uri": "https://localhost:8080/"
        },
        "id": "zhzdomRTOKoJ",
        "outputId": "2462315b-71b4-4975-c75b-dc8e6bf453f9"
      },
      "source": [
        "!gdown --id '19CzXudqN58R3D-1G8KeFWk8UDQwlb8is' --output food-11.zip # 下載資料集\n",
        "!unzip -qq food-11.zip # 解壓縮\n",
        "\n",
        "print(\"\\nls food-11\")\n",
        "!ls food-11\n",
        "\n",
        "print(\"\\nls food-11/testing | head -n 10\")\n",
        "!ls food-11/testing | head -n 10\n",
        "\n",
        "print(\"\\nls food-11/training | head -n 10\")\n",
        "!ls food-11/training | head -n 10\n",
        "\n",
        "print(\"\\nls food-11/validation | head -n 10\")\n",
        "!ls food-11/validation | head -n 10"
      ],
      "execution_count": 1,
      "outputs": [
        {
          "output_type": "stream",
          "text": [
            "Downloading...\n",
            "From: https://drive.google.com/uc?id=19CzXudqN58R3D-1G8KeFWk8UDQwlb8is\n",
            "To: /content/food-11.zip\n",
            "1.16GB [00:09, 129MB/s]\n",
            "\n",
            "ls food-11\n",
            "testing  training  validation\n",
            "\n",
            "ls food-11/testing | head -n 10\n",
            "0000.jpg\n",
            "0001.jpg\n",
            "0002.jpg\n",
            "0003.jpg\n",
            "0004.jpg\n",
            "0005.jpg\n",
            "0006.jpg\n",
            "0007.jpg\n",
            "0008.jpg\n",
            "0009.jpg\n",
            "\n",
            "ls food-11/training | head -n 10\n",
            "0_0.jpg\n",
            "0_100.jpg\n",
            "0_101.jpg\n",
            "0_102.jpg\n",
            "0_103.jpg\n",
            "0_104.jpg\n",
            "0_105.jpg\n",
            "0_106.jpg\n",
            "0_107.jpg\n",
            "0_108.jpg\n",
            "\n",
            "ls food-11/validation | head -n 10\n",
            "0_0.jpg\n",
            "0_100.jpg\n",
            "0_101.jpg\n",
            "0_102.jpg\n",
            "0_103.jpg\n",
            "0_104.jpg\n",
            "0_105.jpg\n",
            "0_106.jpg\n",
            "0_107.jpg\n",
            "0_108.jpg\n"
          ],
          "name": "stdout"
        }
      ]
    },
    {
      "cell_type": "code",
      "metadata": {
        "id": "9sVrKci4PUFW"
      },
      "source": [
        "# Import需要的套件\n",
        "import os\n",
        "import numpy as np\n",
        "import cv2\n",
        "import torch\n",
        "import torch.nn as nn\n",
        "import torchvision.transforms as transforms\n",
        "import pandas as pd\n",
        "from torch.utils.data import DataLoader, Dataset\n",
        "import time"
      ],
      "execution_count": 2,
      "outputs": []
    },
    {
      "cell_type": "markdown",
      "metadata": {
        "id": "F0i9ZCPrOVN_"
      },
      "source": [
        "#Read image\n",
        "利用 OpenCV (cv2) 讀入照片並存放在 numpy array 中"
      ]
    },
    {
      "cell_type": "code",
      "metadata": {
        "id": "Zf7QPifJQNUK"
      },
      "source": [
        "def readfile(path, label):\n",
        "    # label 是一個 boolean variable，代表需不需要回傳 y 值\n",
        "    image_dir = sorted(os.listdir(path))\n",
        "    x = np.zeros((len(image_dir), 128, 128, 3), dtype=np.uint8)\n",
        "    y = np.zeros((len(image_dir)), dtype=np.uint8)\n",
        "    for i, file in enumerate(image_dir):\n",
        "        img = cv2.imread(os.path.join(path, file))\n",
        "        x[i, :, :] = cv2.resize(img,(128, 128))\n",
        "        if label:\n",
        "          y[i] = int(file.split(\"_\")[0])\n",
        "    if label:\n",
        "      return x, y\n",
        "    else:\n",
        "      return x"
      ],
      "execution_count": 3,
      "outputs": []
    },
    {
      "cell_type": "code",
      "metadata": {
        "colab": {
          "base_uri": "https://localhost:8080/"
        },
        "id": "5ebVIY5HQQH7",
        "outputId": "ce68e70a-a05b-4cae-cc03-5b009d32baba"
      },
      "source": [
        "# 分別將 training set、validation set、testing set 用 readfile 函式讀進來\n",
        "workspace_dir = './food-11'\n",
        "print(\"Reading data\")\n",
        "train_x, train_y = readfile(os.path.join(workspace_dir, \"training\"), True)\n",
        "print(\"Size of training data = {}\".format(len(train_x)))\n",
        "val_x, val_y = readfile(os.path.join(workspace_dir, \"validation\"), True)\n",
        "print(\"Size of validation data = {}\".format(len(val_x)))\n",
        "test_x = readfile(os.path.join(workspace_dir, \"testing\"), False)\n",
        "print(\"Size of Testing data = {}\".format(len(test_x)))"
      ],
      "execution_count": 4,
      "outputs": [
        {
          "output_type": "stream",
          "text": [
            "Reading data\n",
            "Size of training data = 9866\n",
            "Size of validation data = 3430\n",
            "Size of Testing data = 3347\n"
          ],
          "name": "stdout"
        }
      ]
    },
    {
      "cell_type": "markdown",
      "metadata": {
        "id": "gq5KVMM3OHY6"
      },
      "source": [
        "# Dataset\n",
        "在 PyTorch 中，我們可以利用 torch.utils.data 的 Dataset 及 DataLoader 來\"包裝\" data，使後續的 training 及 testing 更為方便。\n",
        "\n",
        "Dataset 需要 overload 兩個函數：\\_\\_len\\_\\_ 及 \\_\\_getitem\\_\\_\n",
        "\n",
        "\\_\\_len\\_\\_ 必須要回傳 dataset 的大小，而 \\_\\_getitem\\_\\_ 則定義了當程式利用 [ ] 取值時，dataset 應該要怎麼回傳資料。\n",
        "\n",
        "實際上我們並不會直接使用到這兩個函數，但是使用 DataLoader 在 enumerate Dataset 時會使用到，沒有實做的話會在程式運行階段出現 error。\n"
      ]
    },
    {
      "cell_type": "code",
      "metadata": {
        "id": "gKd2abixQghI"
      },
      "source": [
        "# training 時做 data augmentation\n",
        "train_transform = transforms.Compose([\n",
        "    transforms.ToPILImage(),\n",
        "    transforms.RandomHorizontalFlip(), # 隨機將圖片水平翻轉\n",
        "    transforms.RandomRotation(15), # 隨機旋轉圖片\n",
        "    transforms.ToTensor(), # 將圖片轉成 Tensor，並把數值 normalize 到 [0,1] (data normalization)\n",
        "])\n",
        "# testing 時不需做 data augmentation\n",
        "test_transform = transforms.Compose([\n",
        "    transforms.ToPILImage(),                                    \n",
        "    transforms.ToTensor(),\n",
        "])\n",
        "class ImgDataset(Dataset):\n",
        "    def __init__(self, x, y=None, transform=None):\n",
        "        self.x = x\n",
        "        # label is required to be a LongTensor\n",
        "        self.y = y\n",
        "        if y is not None:\n",
        "            self.y = torch.LongTensor(y)\n",
        "        self.transform = transform\n",
        "    def __len__(self):\n",
        "        return len(self.x)\n",
        "    def __getitem__(self, index):\n",
        "        X = self.x[index]\n",
        "        if self.transform is not None:\n",
        "            X = self.transform(X)\n",
        "        if self.y is not None:\n",
        "            Y = self.y[index]\n",
        "            return X, Y\n",
        "        else:\n",
        "            return X"
      ],
      "execution_count": 5,
      "outputs": []
    },
    {
      "cell_type": "code",
      "metadata": {
        "id": "qz6jeMnkQl0_"
      },
      "source": [
        "batch_size = 128\n",
        "train_set = ImgDataset(train_x, train_y, train_transform)\n",
        "val_set = ImgDataset(val_x, val_y, test_transform)\n",
        "train_loader = DataLoader(train_set, batch_size=batch_size, shuffle=True)\n",
        "val_loader = DataLoader(val_set, batch_size=batch_size, shuffle=False)"
      ],
      "execution_count": 6,
      "outputs": []
    },
    {
      "cell_type": "markdown",
      "metadata": {
        "id": "j9YhZo7POPYG"
      },
      "source": [
        "# Model"
      ]
    },
    {
      "cell_type": "code",
      "metadata": {
        "id": "Y1c-GwrMQqMl"
      },
      "source": [
        "class Classifier(nn.Module):\n",
        "    def __init__(self):\n",
        "        super(Classifier, self).__init__()\n",
        "        # torch.nn.Conv2d(in_channels, out_channels, kernel_size, stride, padding)\n",
        "        # torch.nn.MaxPool2d(kernel_size, stride, padding)\n",
        "        # input 維度 [3, 128, 128]\n",
        "        self.cnn = nn.Sequential(\n",
        "            nn.Conv2d(3, 64, 3, 1, 1),  # [64, 128, 128]\n",
        "            nn.BatchNorm2d(64),\n",
        "            nn.ReLU(),\n",
        "            nn.MaxPool2d(2, 2, 0),      # [64, 64, 64]\n",
        "\n",
        "            nn.Conv2d(64, 128, 3, 1, 1), # [128, 64, 64]\n",
        "            nn.BatchNorm2d(128),\n",
        "            nn.ReLU(),\n",
        "            nn.MaxPool2d(2, 2, 0),      # [128, 32, 32]\n",
        "\n",
        "            nn.Conv2d(128, 256, 3, 1, 1), # [256, 32, 32]\n",
        "            nn.BatchNorm2d(256),\n",
        "            nn.ReLU(),\n",
        "            nn.MaxPool2d(2, 2, 0),      # [256, 16, 16]\n",
        "\n",
        "            nn.Conv2d(256, 512, 3, 1, 1), # [512, 16, 16]\n",
        "            nn.BatchNorm2d(512),\n",
        "            nn.ReLU(),\n",
        "            nn.MaxPool2d(2, 2, 0),       # [512, 8, 8]\n",
        "            \n",
        "            nn.Conv2d(512, 512, 3, 1, 1), # [512, 8, 8]\n",
        "            nn.BatchNorm2d(512),\n",
        "            nn.ReLU(),\n",
        "            nn.MaxPool2d(2, 2, 0),       # [512, 4, 4]\n",
        "        )\n",
        "        self.fc = nn.Sequential(\n",
        "            nn.Linear(512*4*4, 1024),\n",
        "            nn.ReLU(),\n",
        "            nn.Linear(1024, 512),\n",
        "            nn.ReLU(),\n",
        "            nn.Linear(512, 11)\n",
        "        )\n",
        "\n",
        "    def forward(self, x):\n",
        "        out = self.cnn(x)\n",
        "        out = out.view(out.size()[0], -1)\n",
        "        return self.fc(out)"
      ],
      "execution_count": 7,
      "outputs": []
    },
    {
      "cell_type": "markdown",
      "metadata": {
        "id": "aEnGbriXORN3"
      },
      "source": [
        "# Training"
      ]
    },
    {
      "cell_type": "markdown",
      "metadata": {
        "id": "_5x-FH2Kr_jh"
      },
      "source": [
        "使用 training set 訓練，並使用 validation set 尋找好的參數"
      ]
    },
    {
      "cell_type": "code",
      "metadata": {
        "colab": {
          "base_uri": "https://localhost:8080/"
        },
        "id": "PHaFE-8oQtkC",
        "outputId": "a92aaf5d-c940-4136-b0ff-b097393431e6"
      },
      "source": [
        "model = Classifier().cuda()\n",
        "loss = nn.CrossEntropyLoss() # 因為是 classification task，所以 loss 使用 CrossEntropyLoss\n",
        "optimizer = torch.optim.Adam(model.parameters(), lr=0.001) # optimizer 使用 Adam\n",
        "num_epoch = 30\n",
        "\n",
        "for epoch in range(num_epoch):\n",
        "    epoch_start_time = time.time()\n",
        "    train_acc = 0.0\n",
        "    train_loss = 0.0\n",
        "    val_acc = 0.0\n",
        "    val_loss = 0.0\n",
        "\n",
        "    model.train() # 確保 model 是在 train model (開啟 Dropout 等...)\n",
        "    for i, data in enumerate(train_loader):\n",
        "        optimizer.zero_grad() # 用 optimizer 將 model 參數的 gradient 歸零\n",
        "        train_pred = model(data[0].cuda()) # 利用 model 得到預測的機率分佈 這邊實際上就是去呼叫 model 的 forward 函數\n",
        "        batch_loss = loss(train_pred, data[1].cuda()) # 計算 loss （注意 prediction 跟 label 必須同時在 CPU 或是 GPU 上）\n",
        "        batch_loss.backward() # 利用 back propagation 算出每個參數的 gradient\n",
        "        optimizer.step() # 以 optimizer 用 gradient 更新參數值\n",
        "\n",
        "        train_acc += np.sum(np.argmax(train_pred.cpu().data.numpy(), axis=1) == data[1].numpy())\n",
        "        train_loss += batch_loss.item()\n",
        "    \n",
        "    model.eval()\n",
        "    with torch.no_grad():\n",
        "        for i, data in enumerate(val_loader):\n",
        "            val_pred = model(data[0].cuda())\n",
        "            batch_loss = loss(val_pred, data[1].cuda())\n",
        "\n",
        "            val_acc += np.sum(np.argmax(val_pred.cpu().data.numpy(), axis=1) == data[1].numpy())\n",
        "            val_loss += batch_loss.item()\n",
        "\n",
        "        #將結果 print 出來\n",
        "        print('[%03d/%03d] %2.2f sec(s) Train Acc: %3.6f Loss: %3.6f | Val Acc: %3.6f loss: %3.6f' % \\\n",
        "            (epoch + 1, num_epoch, time.time()-epoch_start_time, \\\n",
        "             train_acc/train_set.__len__(), train_loss/train_set.__len__(), val_acc/val_set.__len__(), val_loss/val_set.__len__()))"
      ],
      "execution_count": 8,
      "outputs": [
        {
          "output_type": "stream",
          "text": [
            "[001/030] 31.00 sec(s) Train Acc: 0.239104 Loss: 0.017650 | Val Acc: 0.239942 loss: 0.017337\n",
            "[002/030] 30.87 sec(s) Train Acc: 0.349584 Loss: 0.014611 | Val Acc: 0.316910 loss: 0.016283\n",
            "[003/030] 30.85 sec(s) Train Acc: 0.397223 Loss: 0.013508 | Val Acc: 0.343440 loss: 0.015567\n",
            "[004/030] 30.85 sec(s) Train Acc: 0.444658 Loss: 0.012630 | Val Acc: 0.366181 loss: 0.014618\n",
            "[005/030] 30.89 sec(s) Train Acc: 0.482668 Loss: 0.011745 | Val Acc: 0.437609 loss: 0.012921\n",
            "[006/030] 30.81 sec(s) Train Acc: 0.513582 Loss: 0.011033 | Val Acc: 0.409038 loss: 0.014469\n",
            "[007/030] 30.90 sec(s) Train Acc: 0.530813 Loss: 0.010638 | Val Acc: 0.466764 loss: 0.013240\n",
            "[008/030] 30.91 sec(s) Train Acc: 0.556963 Loss: 0.010116 | Val Acc: 0.451603 loss: 0.013214\n",
            "[009/030] 30.95 sec(s) Train Acc: 0.582506 Loss: 0.009432 | Val Acc: 0.517784 loss: 0.011615\n",
            "[010/030] 31.05 sec(s) Train Acc: 0.605818 Loss: 0.008878 | Val Acc: 0.539942 loss: 0.011036\n",
            "[011/030] 30.99 sec(s) Train Acc: 0.616663 Loss: 0.008627 | Val Acc: 0.541108 loss: 0.010887\n",
            "[012/030] 31.03 sec(s) Train Acc: 0.636428 Loss: 0.008140 | Val Acc: 0.528571 loss: 0.012058\n",
            "[013/030] 31.03 sec(s) Train Acc: 0.660349 Loss: 0.007688 | Val Acc: 0.472303 loss: 0.013902\n",
            "[014/030] 31.09 sec(s) Train Acc: 0.658322 Loss: 0.007672 | Val Acc: 0.530321 loss: 0.012055\n",
            "[015/030] 31.08 sec(s) Train Acc: 0.695013 Loss: 0.006859 | Val Acc: 0.538776 loss: 0.011201\n",
            "[016/030] 31.05 sec(s) Train Acc: 0.698358 Loss: 0.006703 | Val Acc: 0.566472 loss: 0.011103\n",
            "[017/030] 31.20 sec(s) Train Acc: 0.710014 Loss: 0.006614 | Val Acc: 0.538484 loss: 0.012675\n",
            "[018/030] 31.09 sec(s) Train Acc: 0.717515 Loss: 0.006326 | Val Acc: 0.628280 loss: 0.009291\n",
            "[019/030] 31.05 sec(s) Train Acc: 0.738192 Loss: 0.005960 | Val Acc: 0.542857 loss: 0.012974\n",
            "[020/030] 31.05 sec(s) Train Acc: 0.732718 Loss: 0.006047 | Val Acc: 0.554810 loss: 0.011598\n",
            "[021/030] 31.03 sec(s) Train Acc: 0.757957 Loss: 0.005440 | Val Acc: 0.590087 loss: 0.011304\n",
            "[022/030] 31.06 sec(s) Train Acc: 0.775188 Loss: 0.004984 | Val Acc: 0.536735 loss: 0.012831\n",
            "[023/030] 31.07 sec(s) Train Acc: 0.798399 Loss: 0.004540 | Val Acc: 0.654810 loss: 0.009323\n",
            "[024/030] 31.03 sec(s) Train Acc: 0.801743 Loss: 0.004419 | Val Acc: 0.615743 loss: 0.010837\n",
            "[025/030] 31.06 sec(s) Train Acc: 0.813400 Loss: 0.004112 | Val Acc: 0.612828 loss: 0.011255\n",
            "[026/030] 31.03 sec(s) Train Acc: 0.845429 Loss: 0.003496 | Val Acc: 0.584548 loss: 0.011496\n",
            "[027/030] 31.03 sec(s) Train Acc: 0.834989 Loss: 0.003705 | Val Acc: 0.643149 loss: 0.010378\n",
            "[028/030] 31.03 sec(s) Train Acc: 0.835698 Loss: 0.003621 | Val Acc: 0.496210 loss: 0.017273\n",
            "[029/030] 31.01 sec(s) Train Acc: 0.867626 Loss: 0.002976 | Val Acc: 0.666764 loss: 0.010151\n",
            "[030/030] 31.04 sec(s) Train Acc: 0.855767 Loss: 0.003263 | Val Acc: 0.630321 loss: 0.012255\n"
          ],
          "name": "stdout"
        }
      ]
    },
    {
      "cell_type": "markdown",
      "metadata": {
        "id": "2-ssSxXlsI_T"
      },
      "source": [
        "得到好的參數後，我們使用 training set 和 validation set 共同訓練（資料量變多，模型效果較好）"
      ]
    },
    {
      "cell_type": "code",
      "metadata": {
        "id": "RKoUxLun8lFG"
      },
      "source": [
        "train_val_x = np.concatenate((train_x, val_x), axis=0)\n",
        "train_val_y = np.concatenate((train_y, val_y), axis=0)\n",
        "train_val_set = ImgDataset(train_val_x, train_val_y, train_transform)\n",
        "train_val_loader = DataLoader(train_val_set, batch_size=batch_size, shuffle=True)"
      ],
      "execution_count": 9,
      "outputs": []
    },
    {
      "cell_type": "code",
      "metadata": {
        "id": "OoAS5TtRsfOo",
        "colab": {
          "base_uri": "https://localhost:8080/"
        },
        "outputId": "039e66f9-ee59-41d3-fbfa-ca002d93aec4"
      },
      "source": [
        "model_best = Classifier().cuda()\n",
        "loss = nn.CrossEntropyLoss() # 因為是 classification task，所以 loss 使用 CrossEntropyLoss\n",
        "optimizer = torch.optim.Adam(model_best.parameters(), lr=0.001) # optimizer 使用 Adam\n",
        "num_epoch = 30\n",
        "\n",
        "for epoch in range(num_epoch):\n",
        "    epoch_start_time = time.time()\n",
        "    train_acc = 0.0\n",
        "    train_loss = 0.0\n",
        "\n",
        "    model_best.train()\n",
        "    for i, data in enumerate(train_val_loader):\n",
        "        optimizer.zero_grad()\n",
        "        train_pred = model_best(data[0].cuda())\n",
        "        batch_loss = loss(train_pred, data[1].cuda())\n",
        "        batch_loss.backward()\n",
        "        optimizer.step()\n",
        "\n",
        "        train_acc += np.sum(np.argmax(train_pred.cpu().data.numpy(), axis=1) == data[1].numpy())\n",
        "        train_loss += batch_loss.item()\n",
        "\n",
        "    #將結果 print 出來\n",
        "    print('[%03d/%03d] %2.2f sec(s) Train Acc: %3.6f Loss: %3.6f' % \\\n",
        "      (epoch + 1, num_epoch, time.time()-epoch_start_time, \\\n",
        "      train_acc/train_val_set.__len__(), train_loss/train_val_set.__len__()))"
      ],
      "execution_count": 10,
      "outputs": [
        {
          "output_type": "stream",
          "text": [
            "[001/030] 37.18 sec(s) Train Acc: 0.247443 Loss: 0.017142\n",
            "[002/030] 37.10 sec(s) Train Acc: 0.360409 Loss: 0.014242\n",
            "[003/030] 37.16 sec(s) Train Acc: 0.424489 Loss: 0.012903\n",
            "[004/030] 37.07 sec(s) Train Acc: 0.475707 Loss: 0.011755\n",
            "[005/030] 37.05 sec(s) Train Acc: 0.524594 Loss: 0.010701\n",
            "[006/030] 37.00 sec(s) Train Acc: 0.568216 Loss: 0.009721\n",
            "[007/030] 37.17 sec(s) Train Acc: 0.591983 Loss: 0.009195\n",
            "[008/030] 37.29 sec(s) Train Acc: 0.623721 Loss: 0.008464\n",
            "[009/030] 37.09 sec(s) Train Acc: 0.641471 Loss: 0.007991\n",
            "[010/030] 37.06 sec(s) Train Acc: 0.666892 Loss: 0.007422\n",
            "[011/030] 37.11 sec(s) Train Acc: 0.693893 Loss: 0.006970\n",
            "[012/030] 37.33 sec(s) Train Acc: 0.707807 Loss: 0.006505\n",
            "[013/030] 37.14 sec(s) Train Acc: 0.723827 Loss: 0.006173\n",
            "[014/030] 37.07 sec(s) Train Acc: 0.743231 Loss: 0.005751\n",
            "[015/030] 37.07 sec(s) Train Acc: 0.757822 Loss: 0.005427\n",
            "[016/030] 37.09 sec(s) Train Acc: 0.767900 Loss: 0.005212\n",
            "[017/030] 37.09 sec(s) Train Acc: 0.791140 Loss: 0.004662\n",
            "[018/030] 37.06 sec(s) Train Acc: 0.801143 Loss: 0.004499\n",
            "[019/030] 37.11 sec(s) Train Acc: 0.806934 Loss: 0.004289\n",
            "[020/030] 37.07 sec(s) Train Acc: 0.824609 Loss: 0.003951\n",
            "[021/030] 37.07 sec(s) Train Acc: 0.834386 Loss: 0.003684\n",
            "[022/030] 37.04 sec(s) Train Acc: 0.840253 Loss: 0.003487\n",
            "[023/030] 37.10 sec(s) Train Acc: 0.861537 Loss: 0.003091\n",
            "[024/030] 37.06 sec(s) Train Acc: 0.866125 Loss: 0.002956\n",
            "[025/030] 37.13 sec(s) Train Acc: 0.877106 Loss: 0.002731\n",
            "[026/030] 37.06 sec(s) Train Acc: 0.890644 Loss: 0.002416\n",
            "[027/030] 37.07 sec(s) Train Acc: 0.899293 Loss: 0.002245\n",
            "[028/030] 37.01 sec(s) Train Acc: 0.902301 Loss: 0.002137\n",
            "[029/030] 37.06 sec(s) Train Acc: 0.908845 Loss: 0.001974\n",
            "[030/030] 37.05 sec(s) Train Acc: 0.914335 Loss: 0.001869\n"
          ],
          "name": "stdout"
        }
      ]
    },
    {
      "cell_type": "markdown",
      "metadata": {
        "id": "2o1oCMXy61_3"
      },
      "source": [
        "# Testing\n",
        "利用剛剛 train 好的 model 進行 prediction"
      ]
    },
    {
      "cell_type": "code",
      "metadata": {
        "id": "iAR6sn8U661G"
      },
      "source": [
        "test_set = ImgDataset(test_x, transform=test_transform)\n",
        "test_loader = DataLoader(test_set, batch_size=batch_size, shuffle=False)"
      ],
      "execution_count": 11,
      "outputs": []
    },
    {
      "cell_type": "code",
      "metadata": {
        "id": "4HznI9_-ocrq"
      },
      "source": [
        "model_best.eval()\n",
        "prediction = []\n",
        "with torch.no_grad():\n",
        "    for i, data in enumerate(test_loader):\n",
        "        test_pred = model_best(data.cuda())\n",
        "        test_label = np.argmax(test_pred.cpu().data.numpy(), axis=1)\n",
        "        for y in test_label:\n",
        "            prediction.append(y)"
      ],
      "execution_count": 12,
      "outputs": []
    },
    {
      "cell_type": "code",
      "metadata": {
        "id": "3t2q2Th85ZUE"
      },
      "source": [
        "#將結果寫入 csv 檔\n",
        "with open(\"predict.csv\", 'w') as f:\n",
        "    f.write('Id,Category\\n')\n",
        "    for i, y in  enumerate(prediction):\n",
        "        f.write('{},{}\\n'.format(i, y))"
      ],
      "execution_count": 13,
      "outputs": []
    }
  ]
}